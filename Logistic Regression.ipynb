{
 "cells": [
  {
   "cell_type": "code",
   "execution_count": 1,
   "metadata": {
    "_cell_guid": "b1076dfc-b9ad-4769-8c92-a6c4dae69d19",
    "_uuid": "8f2839f25d086af736a60e9eeb907d3b93b6e0e5",
    "execution": {
     "iopub.execute_input": "2021-12-04T23:01:27.127404Z",
     "iopub.status.busy": "2021-12-04T23:01:27.126812Z",
     "iopub.status.idle": "2021-12-04T23:01:27.158545Z",
     "shell.execute_reply": "2021-12-04T23:01:27.157839Z",
     "shell.execute_reply.started": "2021-12-04T23:01:27.127291Z"
    }
   },
   "outputs": [],
   "source": [
    "\n",
    "import numpy as np # linear algebra\n",
    "import pandas as pd # data processing, CSV file I/O (e.g. pd.read_csv)\n",
    "import matplotlib as plt\n",
    "\n",
    "\n",
    "import os\n",
    "for dirname, _, filenames in os.walk('/kaggle/input'):\n",
    "    for filename in filenames:\n",
    "        print(os.path.join(dirname, filename))\n",
    "\n"
   ]
  },
  {
   "cell_type": "code",
   "execution_count": 2,
   "metadata": {},
   "outputs": [
    {
     "name": "stdout",
     "output_type": "stream",
     "text": [
      "Collecting package metadata (current_repodata.json): done\n",
      "Solving environment: done\n",
      "\n",
      "# All requested packages already installed.\n",
      "\n",
      "\n",
      "Note: you may need to restart the kernel to use updated packages.\n"
     ]
    }
   ],
   "source": [
    "conda install numpy"
   ]
  },
  {
   "cell_type": "code",
   "execution_count": 3,
   "metadata": {
    "execution": {
     "iopub.execute_input": "2021-12-04T23:01:27.161108Z",
     "iopub.status.busy": "2021-12-04T23:01:27.160512Z",
     "iopub.status.idle": "2021-12-04T23:01:32.233363Z",
     "shell.execute_reply": "2021-12-04T23:01:32.232383Z",
     "shell.execute_reply.started": "2021-12-04T23:01:27.161066Z"
    }
   },
   "outputs": [],
   "source": [
    "app_df = pd.read_csv(\"Fall2021/Intro-to-DS/Final_Project/application_data.csv\")"
   ]
  },
  {
   "cell_type": "code",
   "execution_count": 4,
   "metadata": {
    "execution": {
     "iopub.execute_input": "2021-12-04T23:01:32.234879Z",
     "iopub.status.busy": "2021-12-04T23:01:32.234620Z",
     "iopub.status.idle": "2021-12-04T23:01:32.512151Z",
     "shell.execute_reply": "2021-12-04T23:01:32.511373Z",
     "shell.execute_reply.started": "2021-12-04T23:01:32.234851Z"
    }
   },
   "outputs": [
    {
     "data": {
      "text/plain": [
       "COMMONAREA_MEDI             0.698723\n",
       "COMMONAREA_AVG              0.698723\n",
       "COMMONAREA_MODE             0.698723\n",
       "NONLIVINGAPARTMENTS_MODE    0.694330\n",
       "NONLIVINGAPARTMENTS_AVG     0.694330\n",
       "NONLIVINGAPARTMENTS_MEDI    0.694330\n",
       "FONDKAPREMONT_MODE          0.683862\n",
       "LIVINGAPARTMENTS_MODE       0.683550\n",
       "LIVINGAPARTMENTS_AVG        0.683550\n",
       "LIVINGAPARTMENTS_MEDI       0.683550\n",
       "dtype: float64"
      ]
     },
     "execution_count": 4,
     "metadata": {},
     "output_type": "execute_result"
    }
   ],
   "source": [
    "#missing data \n",
    "missing_fractions = app_df.isnull().mean().sort_values(ascending=False)\n",
    "missing_fractions.head(10)"
   ]
  },
  {
   "cell_type": "markdown",
   "metadata": {
    "execution": {
     "iopub.execute_input": "2021-11-28T00:49:11.558848Z",
     "iopub.status.busy": "2021-11-28T00:49:11.558526Z",
     "iopub.status.idle": "2021-11-28T00:49:11.565471Z",
     "shell.execute_reply": "2021-11-28T00:49:11.564051Z",
     "shell.execute_reply.started": "2021-11-28T00:49:11.558818Z"
    }
   },
   "source": [
    "# 1.Drop features "
   ]
  },
  {
   "cell_type": "markdown",
   "metadata": {},
   "source": [
    "# Limit the Feature Space\n",
    "The full dataset has 122 features for each loan. We'll select features in two steps:\n",
    "\n",
    "1. Drop features with more than 30% of their data missing.\n",
    "2. Of the remaining features, choose only those that would be available to an investor before deciding to fund the loan."
   ]
  },
  {
   "cell_type": "code",
   "execution_count": 5,
   "metadata": {
    "execution": {
     "iopub.execute_input": "2021-12-04T23:01:32.513639Z",
     "iopub.status.busy": "2021-12-04T23:01:32.513417Z",
     "iopub.status.idle": "2021-12-04T23:01:33.428107Z",
     "shell.execute_reply": "2021-12-04T23:01:33.427270Z",
     "shell.execute_reply.started": "2021-12-04T23:01:32.513612Z"
    }
   },
   "outputs": [],
   "source": [
    "import seaborn as sns\n",
    "import matplotlib.pyplot as plt\n",
    "import matplotlib as mpl\n",
    "%matplotlib inline\n",
    "mpl.style.use('ggplot')\n",
    "sns.set(style='whitegrid')"
   ]
  },
  {
   "cell_type": "markdown",
   "metadata": {},
   "source": [
    "# 1.1 Drop features missing more than 30% percent data"
   ]
  },
  {
   "cell_type": "code",
   "execution_count": 6,
   "metadata": {
    "execution": {
     "iopub.execute_input": "2021-12-04T23:01:33.430310Z",
     "iopub.status.busy": "2021-12-04T23:01:33.430055Z",
     "iopub.status.idle": "2021-12-04T23:01:33.510910Z",
     "shell.execute_reply": "2021-12-04T23:01:33.510063Z",
     "shell.execute_reply.started": "2021-12-04T23:01:33.430284Z"
    }
   },
   "outputs": [],
   "source": [
    "drop_list = sorted(list(missing_fractions[missing_fractions > 0.3].index))\n",
    "app_df.drop(labels=drop_list, axis=1, inplace=True)"
   ]
  },
  {
   "cell_type": "markdown",
   "metadata": {
    "execution": {
     "iopub.execute_input": "2021-11-28T01:50:21.233394Z",
     "iopub.status.busy": "2021-11-28T01:50:21.232627Z",
     "iopub.status.idle": "2021-11-28T01:50:21.237372Z",
     "shell.execute_reply": "2021-11-28T01:50:21.2363Z",
     "shell.execute_reply.started": "2021-11-28T01:50:21.233352Z"
    }
   },
   "source": [
    "# Columns of choice"
   ]
  },
  {
   "cell_type": "code",
   "execution_count": 7,
   "metadata": {
    "execution": {
     "iopub.execute_input": "2021-12-04T23:01:33.512252Z",
     "iopub.status.busy": "2021-12-04T23:01:33.512011Z",
     "iopub.status.idle": "2021-12-04T23:01:33.591386Z",
     "shell.execute_reply": "2021-12-04T23:01:33.590492Z",
     "shell.execute_reply.started": "2021-12-04T23:01:33.512225Z"
    }
   },
   "outputs": [],
   "source": [
    "#useless columns:\n",
    "[\"SK_ID_CURR\"]\n",
    "app_df.drop(labels=[\"SK_ID_CURR\"], axis=1, inplace=True)"
   ]
  },
  {
   "cell_type": "markdown",
   "metadata": {},
   "source": [
    "# Pearson correlation matrix"
   ]
  },
  {
   "cell_type": "code",
   "execution_count": 8,
   "metadata": {
    "execution": {
     "iopub.execute_input": "2021-12-04T23:01:33.593156Z",
     "iopub.status.busy": "2021-12-04T23:01:33.592660Z",
     "iopub.status.idle": "2021-12-04T23:01:33.598778Z",
     "shell.execute_reply": "2021-12-04T23:01:33.597842Z",
     "shell.execute_reply.started": "2021-12-04T23:01:33.593100Z"
    }
   },
   "outputs": [],
   "source": [
    "# indicator (dummy variable) whether the applicant provided ...\n",
    "Flag=['FLAG_MOBIL',\n",
    "       'FLAG_EMP_PHONE', 'FLAG_WORK_PHONE', 'FLAG_CONT_MOBILE', 'FLAG_PHONE',\n",
    "       'FLAG_EMAIL','FLAG_DOCUMENT_2', 'FLAG_DOCUMENT_3',\n",
    "       'FLAG_DOCUMENT_4', 'FLAG_DOCUMENT_5', 'FLAG_DOCUMENT_6',\n",
    "       'FLAG_DOCUMENT_7', 'FLAG_DOCUMENT_8', 'FLAG_DOCUMENT_9',\n",
    "       'FLAG_DOCUMENT_10', 'FLAG_DOCUMENT_11', 'FLAG_DOCUMENT_12',\n",
    "       'FLAG_DOCUMENT_13', 'FLAG_DOCUMENT_14', 'FLAG_DOCUMENT_15',\n",
    "       'FLAG_DOCUMENT_16', 'FLAG_DOCUMENT_17', 'FLAG_DOCUMENT_18',\n",
    "       'FLAG_DOCUMENT_19', 'FLAG_DOCUMENT_20', 'FLAG_DOCUMENT_21']"
   ]
  },
  {
   "cell_type": "code",
   "execution_count": 9,
   "metadata": {
    "execution": {
     "iopub.execute_input": "2021-12-04T23:01:33.600236Z",
     "iopub.status.busy": "2021-12-04T23:01:33.599981Z",
     "iopub.status.idle": "2021-12-04T23:01:33.651100Z",
     "shell.execute_reply": "2021-12-04T23:01:33.650028Z",
     "shell.execute_reply.started": "2021-12-04T23:01:33.600210Z"
    }
   },
   "outputs": [],
   "source": [
    "app_df_2=app_df.drop(labels=Flag, axis=1)"
   ]
  },
  {
   "cell_type": "code",
   "execution_count": 10,
   "metadata": {
    "execution": {
     "iopub.execute_input": "2021-12-04T23:01:33.652550Z",
     "iopub.status.busy": "2021-12-04T23:01:33.652323Z",
     "iopub.status.idle": "2021-12-04T23:01:36.214169Z",
     "shell.execute_reply": "2021-12-04T23:01:36.213255Z",
     "shell.execute_reply.started": "2021-12-04T23:01:33.652524Z"
    }
   },
   "outputs": [
    {
     "data": {
      "text/plain": [
       "<AxesSubplot:title={'center':'Pearson Correlation Matrix'}>"
      ]
     },
     "execution_count": 10,
     "metadata": {},
     "output_type": "execute_result"
    },
    {
     "data": {
      "image/png": "[encoded data removed]",
      "text/plain": [
       "<Figure size 864x864 with 2 Axes>"
      ]
     },
     "metadata": {},
     "output_type": "display_data"
    }
   ],
   "source": [
    "sns.set(style=\"whitegrid\", font_scale=1)\n",
    "plt.figure(figsize=(12,12))\n",
    "plt.title('Pearson Correlation Matrix',fontsize=25)\n",
    "sns.heatmap(app_df_2.corr(),linewidths=0.25,vmax=0.7,square=True,cmap=\"GnBu\",linecolor='w',\n",
    "            annot=False, cbar_kws={\"shrink\": .7})"
   ]
  },
  {
   "cell_type": "code",
   "execution_count": 11,
   "metadata": {
    "execution": {
     "iopub.execute_input": "2021-12-04T23:01:36.216899Z",
     "iopub.status.busy": "2021-12-04T23:01:36.215622Z",
     "iopub.status.idle": "2021-12-04T23:01:36.220825Z",
     "shell.execute_reply": "2021-12-04T23:01:36.220281Z",
     "shell.execute_reply.started": "2021-12-04T23:01:36.216729Z"
    }
   },
   "outputs": [],
   "source": [
    "drop_list_2=['AMT_ANNUITY','AMT_GOODS_PRICE','REGION_RATING_CLIENT']"
   ]
  },
  {
   "cell_type": "code",
   "execution_count": 12,
   "metadata": {
    "execution": {
     "iopub.execute_input": "2021-12-04T23:01:36.222646Z",
     "iopub.status.busy": "2021-12-04T23:01:36.222406Z",
     "iopub.status.idle": "2021-12-04T23:01:36.335756Z",
     "shell.execute_reply": "2021-12-04T23:01:36.334898Z",
     "shell.execute_reply.started": "2021-12-04T23:01:36.222610Z"
    }
   },
   "outputs": [],
   "source": [
    "app_df.drop(labels=drop_list_2, axis=1, inplace=True)"
   ]
  },
  {
   "cell_type": "markdown",
   "metadata": {
    "execution": {
     "iopub.execute_input": "2021-11-28T01:23:32.716214Z",
     "iopub.status.busy": "2021-11-28T01:23:32.715868Z",
     "iopub.status.idle": "2021-11-28T01:23:32.722274Z",
     "shell.execute_reply": "2021-11-28T01:23:32.721228Z",
     "shell.execute_reply.started": "2021-11-28T01:23:32.71618Z"
    }
   },
   "source": [
    "# For linear model only, other team member please delete this part(2. Multicollinearity) in your code!\n",
    "# 2. Multicollinearity \n",
    "Although highly correlated features (multicollinearity) aren't a problem for the machine learning models based on decision trees (as used here), these features decrease importances of each other and can make feature analysis more difficult. Therefore, I calculate feature correlations and remove the features with very high correlation coefficients before applying machine learning."
   ]
  },
  {
   "cell_type": "code",
   "execution_count": 13,
   "metadata": {
    "execution": {
     "iopub.execute_input": "2021-12-04T23:01:36.337348Z",
     "iopub.status.busy": "2021-12-04T23:01:36.337015Z",
     "iopub.status.idle": "2021-12-04T23:01:36.452487Z",
     "shell.execute_reply": "2021-12-04T23:01:36.451572Z",
     "shell.execute_reply.started": "2021-12-04T23:01:36.337316Z"
    }
   },
   "outputs": [],
   "source": [
    "from statsmodels.stats.outliers_influence import variance_inflation_factor"
   ]
  },
  {
   "cell_type": "code",
   "execution_count": 14,
   "metadata": {
    "execution": {
     "iopub.execute_input": "2021-12-04T23:01:36.454572Z",
     "iopub.status.busy": "2021-12-04T23:01:36.454338Z",
     "iopub.status.idle": "2021-12-04T23:01:36.463848Z",
     "shell.execute_reply": "2021-12-04T23:01:36.462972Z",
     "shell.execute_reply.started": "2021-12-04T23:01:36.454545Z"
    }
   },
   "outputs": [],
   "source": [
    "#column that doesn't contain object input\n",
    "value_column=[]\n",
    "for i in range(app_df.shape[1]):\n",
    "    if type(app_df.iloc[1,i])!=str:\n",
    "        value_column.append(i)"
   ]
  },
  {
   "cell_type": "code",
   "execution_count": 15,
   "metadata": {
    "execution": {
     "iopub.execute_input": "2021-12-04T23:01:36.468594Z",
     "iopub.status.busy": "2021-12-04T23:01:36.467518Z",
     "iopub.status.idle": "2021-12-04T23:01:36.549065Z",
     "shell.execute_reply": "2021-12-04T23:01:36.547588Z",
     "shell.execute_reply.started": "2021-12-04T23:01:36.468547Z"
    }
   },
   "outputs": [],
   "source": [
    "app_df_3=app_df.iloc[:,value_column]"
   ]
  },
  {
   "cell_type": "code",
   "execution_count": 16,
   "metadata": {
    "execution": {
     "iopub.execute_input": "2021-12-04T23:01:36.550994Z",
     "iopub.status.busy": "2021-12-04T23:01:36.550727Z",
     "iopub.status.idle": "2021-12-04T23:03:05.176798Z",
     "shell.execute_reply": "2021-12-04T23:03:05.175793Z",
     "shell.execute_reply.started": "2021-12-04T23:01:36.550963Z"
    }
   },
   "outputs": [],
   "source": [
    "# # Create a dataframe that will contain the names of all the feature variables and their respective VIFs\n",
    "# vif = pd.DataFrame()\n",
    "# X=app_df_3.drop(labels=['TARGET'],axis=1)\n",
    "# #use the following line if you don't want to see the warning\n",
    "# #X=app_df_3.drop(labels=['FLAG_DOCUMENT_2'],axis=1).drop(labels=['TARGET'],axis=1)\n",
    "# X=X.dropna()\n",
    "# vif['Features'] = X.columns\n",
    "# vif['VIF'] = [variance_inflation_factor(X.values, i) for i in range(X.shape[1])]\n",
    "# vif['VIF'] = round(vif['VIF'], 2)\n",
    "# vif = vif.sort_values(by = \"VIF\", ascending = False)\n",
    "# vif"
   ]
  },
  {
   "cell_type": "code",
   "execution_count": 17,
   "metadata": {
    "execution": {
     "iopub.execute_input": "2021-12-04T23:03:05.179673Z",
     "iopub.status.busy": "2021-12-04T23:03:05.178909Z",
     "iopub.status.idle": "2021-12-04T23:03:05.259971Z",
     "shell.execute_reply": "2021-12-04T23:03:05.259081Z",
     "shell.execute_reply.started": "2021-12-04T23:03:05.179616Z"
    }
   },
   "outputs": [],
   "source": [
    "app_df_3=app_df_3.drop(labels=['FLAG_MOBIL','FLAG_EMP_PHONE','OBS_60_CNT_SOCIAL_CIRCLE'], axis=1)"
   ]
  },
  {
   "cell_type": "markdown",
   "metadata": {},
   "source": [
    "# 3. Your code"
   ]
  },
  {
   "cell_type": "markdown",
   "metadata": {},
   "source": [
    "## Linear Regression"
   ]
  },
  {
   "cell_type": "code",
   "execution_count": 18,
   "metadata": {
    "execution": {
     "iopub.execute_input": "2021-12-04T23:03:05.261963Z",
     "iopub.status.busy": "2021-12-04T23:03:05.261485Z",
     "iopub.status.idle": "2021-12-04T23:03:05.715647Z",
     "shell.execute_reply": "2021-12-04T23:03:05.714462Z",
     "shell.execute_reply.started": "2021-12-04T23:03:05.261928Z"
    }
   },
   "outputs": [],
   "source": [
    "#  one-hot encoding is not necessary for some models! Please be aware.\n",
    "app_df=pd.get_dummies(app_df)"
   ]
  },
  {
   "cell_type": "code",
   "execution_count": 19,
   "metadata": {},
   "outputs": [
    {
     "data": {
      "text/html": [
       "<div>\n",
       "<style scoped>\n",
       "    .dataframe tbody tr th:only-of-type {\n",
       "        vertical-align: middle;\n",
       "    }\n",
       "\n",
       "    .dataframe tbody tr th {\n",
       "        vertical-align: top;\n",
       "    }\n",
       "\n",
       "    .dataframe thead th {\n",
       "        text-align: right;\n",
       "    }\n",
       "</style>\n",
       "<table border=\"1\" class=\"dataframe\">\n",
       "  <thead>\n",
       "    <tr style=\"text-align: right;\">\n",
       "      <th></th>\n",
       "      <th>TARGET</th>\n",
       "      <th>CNT_CHILDREN</th>\n",
       "      <th>AMT_INCOME_TOTAL</th>\n",
       "      <th>AMT_CREDIT</th>\n",
       "      <th>REGION_POPULATION_RELATIVE</th>\n",
       "      <th>DAYS_BIRTH</th>\n",
       "      <th>DAYS_EMPLOYED</th>\n",
       "      <th>DAYS_REGISTRATION</th>\n",
       "      <th>DAYS_ID_PUBLISH</th>\n",
       "      <th>FLAG_WORK_PHONE</th>\n",
       "      <th>...</th>\n",
       "      <th>FLAG_DOCUMENT_18</th>\n",
       "      <th>FLAG_DOCUMENT_19</th>\n",
       "      <th>FLAG_DOCUMENT_20</th>\n",
       "      <th>FLAG_DOCUMENT_21</th>\n",
       "      <th>AMT_REQ_CREDIT_BUREAU_HOUR</th>\n",
       "      <th>AMT_REQ_CREDIT_BUREAU_DAY</th>\n",
       "      <th>AMT_REQ_CREDIT_BUREAU_WEEK</th>\n",
       "      <th>AMT_REQ_CREDIT_BUREAU_MON</th>\n",
       "      <th>AMT_REQ_CREDIT_BUREAU_QRT</th>\n",
       "      <th>AMT_REQ_CREDIT_BUREAU_YEAR</th>\n",
       "    </tr>\n",
       "  </thead>\n",
       "  <tbody>\n",
       "    <tr>\n",
       "      <th>0</th>\n",
       "      <td>1</td>\n",
       "      <td>0</td>\n",
       "      <td>202500.0</td>\n",
       "      <td>406597.5</td>\n",
       "      <td>0.018801</td>\n",
       "      <td>-9461</td>\n",
       "      <td>-637</td>\n",
       "      <td>-3648.0</td>\n",
       "      <td>-2120</td>\n",
       "      <td>0</td>\n",
       "      <td>...</td>\n",
       "      <td>0</td>\n",
       "      <td>0</td>\n",
       "      <td>0</td>\n",
       "      <td>0</td>\n",
       "      <td>0.0</td>\n",
       "      <td>0.0</td>\n",
       "      <td>0.0</td>\n",
       "      <td>0.0</td>\n",
       "      <td>0.0</td>\n",
       "      <td>1.0</td>\n",
       "    </tr>\n",
       "    <tr>\n",
       "      <th>1</th>\n",
       "      <td>0</td>\n",
       "      <td>0</td>\n",
       "      <td>270000.0</td>\n",
       "      <td>1293502.5</td>\n",
       "      <td>0.003541</td>\n",
       "      <td>-16765</td>\n",
       "      <td>-1188</td>\n",
       "      <td>-1186.0</td>\n",
       "      <td>-291</td>\n",
       "      <td>0</td>\n",
       "      <td>...</td>\n",
       "      <td>0</td>\n",
       "      <td>0</td>\n",
       "      <td>0</td>\n",
       "      <td>0</td>\n",
       "      <td>0.0</td>\n",
       "      <td>0.0</td>\n",
       "      <td>0.0</td>\n",
       "      <td>0.0</td>\n",
       "      <td>0.0</td>\n",
       "      <td>0.0</td>\n",
       "    </tr>\n",
       "    <tr>\n",
       "      <th>2</th>\n",
       "      <td>0</td>\n",
       "      <td>0</td>\n",
       "      <td>67500.0</td>\n",
       "      <td>135000.0</td>\n",
       "      <td>0.010032</td>\n",
       "      <td>-19046</td>\n",
       "      <td>-225</td>\n",
       "      <td>-4260.0</td>\n",
       "      <td>-2531</td>\n",
       "      <td>1</td>\n",
       "      <td>...</td>\n",
       "      <td>0</td>\n",
       "      <td>0</td>\n",
       "      <td>0</td>\n",
       "      <td>0</td>\n",
       "      <td>0.0</td>\n",
       "      <td>0.0</td>\n",
       "      <td>0.0</td>\n",
       "      <td>0.0</td>\n",
       "      <td>0.0</td>\n",
       "      <td>0.0</td>\n",
       "    </tr>\n",
       "    <tr>\n",
       "      <th>3</th>\n",
       "      <td>0</td>\n",
       "      <td>0</td>\n",
       "      <td>135000.0</td>\n",
       "      <td>312682.5</td>\n",
       "      <td>0.008019</td>\n",
       "      <td>-19005</td>\n",
       "      <td>-3039</td>\n",
       "      <td>-9833.0</td>\n",
       "      <td>-2437</td>\n",
       "      <td>0</td>\n",
       "      <td>...</td>\n",
       "      <td>0</td>\n",
       "      <td>0</td>\n",
       "      <td>0</td>\n",
       "      <td>0</td>\n",
       "      <td>NaN</td>\n",
       "      <td>NaN</td>\n",
       "      <td>NaN</td>\n",
       "      <td>NaN</td>\n",
       "      <td>NaN</td>\n",
       "      <td>NaN</td>\n",
       "    </tr>\n",
       "    <tr>\n",
       "      <th>4</th>\n",
       "      <td>0</td>\n",
       "      <td>0</td>\n",
       "      <td>121500.0</td>\n",
       "      <td>513000.0</td>\n",
       "      <td>0.028663</td>\n",
       "      <td>-19932</td>\n",
       "      <td>-3038</td>\n",
       "      <td>-4311.0</td>\n",
       "      <td>-3458</td>\n",
       "      <td>0</td>\n",
       "      <td>...</td>\n",
       "      <td>0</td>\n",
       "      <td>0</td>\n",
       "      <td>0</td>\n",
       "      <td>0</td>\n",
       "      <td>0.0</td>\n",
       "      <td>0.0</td>\n",
       "      <td>0.0</td>\n",
       "      <td>0.0</td>\n",
       "      <td>0.0</td>\n",
       "      <td>0.0</td>\n",
       "    </tr>\n",
       "  </tbody>\n",
       "</table>\n",
       "<p>5 rows × 54 columns</p>\n",
       "</div>"
      ],
      "text/plain": [
       "   TARGET  CNT_CHILDREN  AMT_INCOME_TOTAL  AMT_CREDIT  \\\n",
       "0       1             0          202500.0    406597.5   \n",
       "1       0             0          270000.0   1293502.5   \n",
       "2       0             0           67500.0    135000.0   \n",
       "3       0             0          135000.0    312682.5   \n",
       "4       0             0          121500.0    513000.0   \n",
       "\n",
       "   REGION_POPULATION_RELATIVE  DAYS_BIRTH  DAYS_EMPLOYED  DAYS_REGISTRATION  \\\n",
       "0                    0.018801       -9461           -637            -3648.0   \n",
       "1                    0.003541      -16765          -1188            -1186.0   \n",
       "2                    0.010032      -19046           -225            -4260.0   \n",
       "3                    0.008019      -19005          -3039            -9833.0   \n",
       "4                    0.028663      -19932          -3038            -4311.0   \n",
       "\n",
       "   DAYS_ID_PUBLISH  FLAG_WORK_PHONE  ...  FLAG_DOCUMENT_18  FLAG_DOCUMENT_19  \\\n",
       "0            -2120                0  ...                 0                 0   \n",
       "1             -291                0  ...                 0                 0   \n",
       "2            -2531                1  ...                 0                 0   \n",
       "3            -2437                0  ...                 0                 0   \n",
       "4            -3458                0  ...                 0                 0   \n",
       "\n",
       "   FLAG_DOCUMENT_20  FLAG_DOCUMENT_21  AMT_REQ_CREDIT_BUREAU_HOUR  \\\n",
       "0                 0                 0                         0.0   \n",
       "1                 0                 0                         0.0   \n",
       "2                 0                 0                         0.0   \n",
       "3                 0                 0                         NaN   \n",
       "4                 0                 0                         0.0   \n",
       "\n",
       "   AMT_REQ_CREDIT_BUREAU_DAY  AMT_REQ_CREDIT_BUREAU_WEEK  \\\n",
       "0                        0.0                         0.0   \n",
       "1                        0.0                         0.0   \n",
       "2                        0.0                         0.0   \n",
       "3                        NaN                         NaN   \n",
       "4                        0.0                         0.0   \n",
       "\n",
       "   AMT_REQ_CREDIT_BUREAU_MON  AMT_REQ_CREDIT_BUREAU_QRT  \\\n",
       "0                        0.0                        0.0   \n",
       "1                        0.0                        0.0   \n",
       "2                        0.0                        0.0   \n",
       "3                        NaN                        NaN   \n",
       "4                        0.0                        0.0   \n",
       "\n",
       "   AMT_REQ_CREDIT_BUREAU_YEAR  \n",
       "0                         1.0  \n",
       "1                         0.0  \n",
       "2                         0.0  \n",
       "3                         NaN  \n",
       "4                         0.0  \n",
       "\n",
       "[5 rows x 54 columns]"
      ]
     },
     "execution_count": 19,
     "metadata": {},
     "output_type": "execute_result"
    }
   ],
   "source": [
    "app_df_3.head()"
   ]
  },
  {
   "cell_type": "code",
   "execution_count": 26,
   "metadata": {},
   "outputs": [],
   "source": [
    "#use a smaller data set first.\n",
    "app_df_3 = app_df_3.sample(frac = 0.3)"
   ]
  },
  {
   "cell_type": "code",
   "execution_count": 20,
   "metadata": {
    "execution": {
     "iopub.execute_input": "2021-12-04T23:03:05.717420Z",
     "iopub.status.busy": "2021-12-04T23:03:05.717078Z",
     "iopub.status.idle": "2021-12-04T23:03:05.721134Z",
     "shell.execute_reply": "2021-12-04T23:03:05.720507Z",
     "shell.execute_reply.started": "2021-12-04T23:03:05.717377Z"
    }
   },
   "outputs": [],
   "source": [
    "#app_df is for everyone and app_df_3 is for linear model\n",
    "\n",
    "from sklearn.linear_model import LinearRegression\n",
    "from sklearn.preprocessing import PolynomialFeatures\n",
    "from sklearn.preprocessing import StandardScaler\n",
    "from sklearn.model_selection import train_test_split\n",
    "from sklearn.metrics import mean_squared_error, r2_score\n",
    "\n",
    "app_df_3 = app_df_3.dropna()\n",
    "X = app_df_3.drop('TARGET', axis=1)\n",
    "y = app_df_3['TARGET']\n",
    "X_train, X_test, y_train, y_test = train_test_split(X,y,test_size = 0.3,random_state=235)"
   ]
  },
  {
   "cell_type": "code",
   "execution_count": 22,
   "metadata": {},
   "outputs": [
    {
     "name": "stdout",
     "output_type": "stream",
     "text": [
      "Testing for all the columns:\n",
      "R2 values for the train set: 0.0550486588843907\n",
      "MSE value for the train set: 0.0678515577130185\n",
      "R2 values for the test set: 0.05447292911540291\n",
      "MSE value for the test set: 0.06741089966889216\n",
      "\n"
     ]
    }
   ],
   "source": [
    "#Linear Regression on all columns\n",
    "lr1 = LinearRegression().fit(X_train, y_train)\n",
    "\n",
    "print(\"Testing for all the columns:\")\n",
    "print(f\"R2 values for the train set: {lr1.score(X_train,y_train)}\")\n",
    "print(f\"MSE value for the train set: {mean_squared_error(y_train,lr1.predict(X_train))}\")\n",
    "print(f\"R2 values for the test set: {lr1.score(X_test, y_test)}\")\n",
    "print(f\"MSE value for the test set: {mean_squared_error(y_test,lr1.predict(X_test))}\\n\")"
   ]
  },
  {
   "cell_type": "code",
   "execution_count": 23,
   "metadata": {},
   "outputs": [
    {
     "name": "stdout",
     "output_type": "stream",
     "text": [
      "Testing for all polynomial expansions of the features for degree <= 2\n",
      "R2 values for the train set: 0.04516343578842952\n",
      "MSE value for the train set: 0.06856135911359623\n",
      "R2 values for the test set: -9.041566543659417\n",
      "MSE value for the test set: 0.7159086774319835\n"
     ]
    }
   ],
   "source": [
    "#Linear Regression on all polynomial expansions of the features for degree <= 2\n",
    "poly_transform = PolynomialFeatures(2)\n",
    "poly = poly_transform.fit(X_train)\n",
    "p_train_X = poly.transform(X_train)\n",
    "p_test_X = poly.transform(X_test)\n",
    "\n",
    "lr2 = LinearRegression().fit(p_train_X, y_train)\n",
    "\n",
    "print(\"Testing for all polynomial expansions of the features for degree <= 2\")\n",
    "print(f\"R2 values for the train set: {lr2.score(p_train_X,y_train)}\")\n",
    "print(f\"MSE value for the train set: {mean_squared_error(y_train,lr2.predict(p_train_X))}\")\n",
    "print(f\"R2 values for the test set: {lr2.score(p_test_X, y_test)}\")\n",
    "print(f\"MSE value for the test set: {mean_squared_error(y_test,lr2.predict(p_test_X))}\")"
   ]
  },
  {
   "cell_type": "code",
   "execution_count": 24,
   "metadata": {},
   "outputs": [
    {
     "data": {
      "text/plain": [
       "0.05448657004394175"
      ]
     },
     "execution_count": 24,
     "metadata": {},
     "output_type": "execute_result"
    }
   ],
   "source": [
    "from sklearn.metrics import explained_variance_score\n",
    "explained_variance_score(y_test, lr1.predict(X_test))"
   ]
  },
  {
   "cell_type": "markdown",
   "metadata": {},
   "source": [
    "### Ridge Regression"
   ]
  },
  {
   "cell_type": "code",
   "execution_count": 25,
   "metadata": {},
   "outputs": [],
   "source": [
    "#Ridge Regression\n",
    "import warnings\n",
    "from scipy.linalg import LinAlgWarning\n",
    "from sklearn.linear_model import Ridge\n",
    "warnings.filterwarnings(\"ignore\", category=LinAlgWarning)\n",
    "\n",
    "alphaval = 1 # ridge regression parameter alpha\n",
    "ridge = Ridge(alpha=alphaval).fit(p_train_X,y_train)\n",
    "alphaval2 = 10**3 # ridge regression parameter alpha\n",
    "ridge2 = Ridge(alpha=alphaval2).fit(p_train_X,y_train)"
   ]
  },
  {
   "cell_type": "code",
   "execution_count": 26,
   "metadata": {},
   "outputs": [
    {
     "name": "stdout",
     "output_type": "stream",
     "text": [
      "                                                                     \n",
      "MSE of  linear regression:                                   0.067411\n",
      "MSE of linear regression, polynomial features:               0.715909\n",
      "MSE of ridge regression, alpha = 1, polynomial features:     0.949618\n",
      "MSE of ridge regression, alpha = 1000, polynomial features:  0.885548\n",
      "                                                                    \n",
      "R2, linear regression:                                      0.054878\n",
      "R2 of linear regression, polynomial features:               0.045163\n",
      "R2 of ridge regression, alpha = 1, polynomial features:     0.083583\n",
      "R2 of ridge regression, alpha = 1000, polynomial features:  0.069086\n"
     ]
    }
   ],
   "source": [
    "text_errors = ['MSE of  linear regression:','MSE of linear regression, polynomial features:',\\\n",
    "                    'MSE of ridge regression, alpha = '+ str(alphaval)+', polynomial features:',\\\n",
    "                    'MSE of ridge regression, alpha = '+ str(alphaval2)+', polynomial features:']\n",
    "trainerrors_list = [mean_squared_error(lr1.predict(X_test), y_test), mean_squared_error(lr2.predict(p_test_X), y_test),\\\n",
    "                    mean_squared_error(ridge.predict(p_test_X), y_test),\\\n",
    "                    mean_squared_error(ridge2.predict(p_test_X), y_test)]\n",
    "text_r2 = ['R2, linear regression:','R2 of linear regression, polynomial features:',\\\n",
    "           'R2 of ridge regression, alpha = '+ str(alphaval)+', polynomial features:',\\\n",
    "           'R2 of ridge regression, alpha = '+ str(alphaval2)+', polynomial features:']\n",
    "r2_train_list = [lr1.score(X,y), lr2.score(p_train_X, y_train), \\\n",
    "                 ridge.score(p_train_X, y_train),ridge2.score(p_train_X, y_train)]\n",
    "\n",
    "pd.options.display.max_colwidth = 100\n",
    "print(pd.DataFrame(trainerrors_list, index=text_errors, columns=['']))\n",
    "print(pd.DataFrame(r2_train_list, index=text_r2, columns=['']))"
   ]
  },
  {
   "cell_type": "code",
   "execution_count": 27,
   "metadata": {},
   "outputs": [],
   "source": [
    "def computeScoresMSE(model,alphas,train_X,train_y,test_X,test_y):\n",
    "    train_scores = np.empty_like(alphas)\n",
    "    test_scores = np.empty_like(alphas)\n",
    "    test_MSE    = np.empty_like(alphas)\n",
    "    train_MSE   = np.empty_like(alphas)\n",
    "    models = []\n",
    "    for i in range(alphas.size):\n",
    "        models.append(model(alpha=alphas[i]))\n",
    "        models[i].fit(train_X,train_y)\n",
    "        train_scores[i] = models[i].score(train_X, train_y)\n",
    "        test_scores[i]  = models[i].score(test_X, test_y)\n",
    "        test_MSE[i]     = np.mean((test_y-models[i].predict(test_X))**2)\n",
    "        train_MSE[i]    = np.mean((train_y-models[i].predict(train_X))**2)\n",
    "    index = np.argmin(test_MSE)\n",
    "    best_model = models[index]\n",
    "    return train_MSE, test_MSE, train_scores, test_scores, best_model"
   ]
  },
  {
   "cell_type": "code",
   "execution_count": 28,
   "metadata": {},
   "outputs": [
    {
     "data": {
      "text/plain": [
       "array([1.00000000e-02, 1.36644835e-02, 1.86718109e-02, 2.55140652e-02,\n",
       "       3.48636523e-02, 4.76393801e-02, 6.50967523e-02, 8.89513497e-02,\n",
       "       1.21547425e-01, 1.66088278e-01, 2.26951054e-01, 3.10116893e-01,\n",
       "       4.23758716e-01, 5.79044398e-01, 7.91234262e-01, 1.08118075e+00,\n",
       "       1.47737765e+00, 2.01876025e+00, 2.75853162e+00, 3.76939098e+00,\n",
       "       5.15067808e+00, 7.03813555e+00, 9.61724871e+00, 1.31414736e+01,\n",
       "       1.79571449e+01, 2.45375111e+01, 3.35292415e+01, 4.58159767e+01,\n",
       "       6.26051657e+01, 8.55467254e+01, 1.16895182e+02, 1.59731228e+02,\n",
       "       2.18264473e+02, 2.98247129e+02, 4.07539297e+02, 5.56881399e+02,\n",
       "       7.60949669e+02, 1.03979842e+03, 1.42083083e+03, 1.94149195e+03,\n",
       "       2.65294846e+03, 3.62511705e+03, 4.95353521e+03, 6.76875001e+03,\n",
       "       9.24914728e+03, 1.26384820e+04, 1.72698329e+04, 2.35983347e+04,\n",
       "       3.22459055e+04, 4.40623643e+04, 6.02089449e+04, 8.22724134e+04,\n",
       "       1.12421004e+05, 1.53617495e+05, 2.09910372e+05, 2.86831681e+05,\n",
       "       3.91940677e+05, 5.35566692e+05, 7.31824222e+05, 1.00000000e+06])"
      ]
     },
     "execution_count": 28,
     "metadata": {},
     "output_type": "execute_result"
    }
   ],
   "source": [
    "alphas = np.logspace(-2,6,num=60) # create numpy array of logarithmically interpolated values between 10^(-2) and 10^(6)\n",
    "alphas"
   ]
  },
  {
   "cell_type": "code",
   "execution_count": 29,
   "metadata": {},
   "outputs": [
    {
     "data": {
      "image/png": "[encoded data removed]",
      "text/plain": [
       "<Figure size 1008x360 with 1 Axes>"
      ]
     },
     "metadata": {},
     "output_type": "display_data"
    },
    {
     "name": "stdout",
     "output_type": "stream",
     "text": [
      "Model with optimal regularization parameter alpha:  Ridge(alpha=1000000.0)\n",
      "Best test MSE:  0.07209964213792092\n"
     ]
    },
    {
     "data": {
      "text/plain": [
       "(0.07209964213792092, 0.07209964213792092)"
      ]
     },
     "execution_count": 29,
     "metadata": {},
     "output_type": "execute_result"
    }
   ],
   "source": [
    "train_MSE, test_MSE, train_scores, test_scores, Ridge_opt = \\\n",
    "    computeScoresMSE(Ridge, alphas, p_train_X, y_train, p_test_X, y_test)\n",
    "plt.figure(figsize=(14,5))\n",
    "plt.semilogx(alphas,test_MSE,'x',label=\"Test MSE\")\n",
    "plt.semilogx(alphas,train_MSE,'x',label=\"Train MSE\")\n",
    "plt.xlabel(r\"Regularization parameter $\\alpha$\")\n",
    "plt.ylabel(r\"Mean Squared Error (MSE)\")\n",
    "plt.title(\"Bias-Variance Tradeoff for Ridge Regression\")\n",
    "ax = plt.gca()\n",
    "ax.invert_xaxis()\n",
    "plt.legend()\n",
    "plt.show()\n",
    "\n",
    "print(\"Model with optimal regularization parameter alpha: \",Ridge_opt)\n",
    "print(\"Best test MSE: \",min(test_MSE)) # compare with np.mean((test_y-Ridge_opt.predict(test_X))**2)\n",
    "(min(test_MSE) , np.mean((y_test-Ridge_opt.predict(p_test_X))**2))"
   ]
  },
  {
   "cell_type": "code",
   "execution_count": 31,
   "metadata": {},
   "outputs": [
    {
     "data": {
      "text/plain": [
       "(-0.011292888499383036, -0.011292888499379705)"
      ]
     },
     "execution_count": 31,
     "metadata": {},
     "output_type": "execute_result"
    }
   ],
   "source": [
    "# Check the calculation of R2:\n",
    "y_test_avg = np.mean(y_test)\n",
    "rsquared = 1 - np.linalg.norm(y_test-Ridge_opt.predict(p_test_X))**2 / np.linalg.norm(y_test-y_test_avg)**2\n",
    "(max(test_scores),rsquared)"
   ]
  },
  {
   "cell_type": "code",
   "execution_count": 32,
   "metadata": {},
   "outputs": [
    {
     "data": {
      "text/plain": [
       "array([ 0.00000000e+00,  5.55142270e-06,  2.34551995e-08, ...,\n",
       "        3.13648527e-05, -1.02191792e-04,  2.59923403e-04])"
      ]
     },
     "execution_count": 32,
     "metadata": {},
     "output_type": "execute_result"
    }
   ],
   "source": [
    "Ridge_opt.coef_"
   ]
  },
  {
   "cell_type": "markdown",
   "metadata": {},
   "source": [
    "### LASSO"
   ]
  },
  {
   "cell_type": "code",
   "execution_count": 33,
   "metadata": {},
   "outputs": [
    {
     "ename": "KeyboardInterrupt",
     "evalue": "",
     "output_type": "error",
     "traceback": [
      "\u001b[0;31m---------------------------------------------------------------------------\u001b[0m",
      "\u001b[0;31mKeyboardInterrupt\u001b[0m                         Traceback (most recent call last)",
      "\u001b[0;32m<ipython-input-33-dca39e48b3de>\u001b[0m in \u001b[0;36m<module>\u001b[0;34m\u001b[0m\n\u001b[1;32m      6\u001b[0m \u001b[0;34m\u001b[0m\u001b[0m\n\u001b[1;32m      7\u001b[0m \u001b[0mtrain_MSE\u001b[0m\u001b[0;34m,\u001b[0m \u001b[0mtest_MSE\u001b[0m\u001b[0;34m,\u001b[0m \u001b[0mtrain_scores\u001b[0m\u001b[0;34m,\u001b[0m \u001b[0mtest_scores\u001b[0m\u001b[0;34m,\u001b[0m \u001b[0mLasso_opt\u001b[0m \u001b[0;34m=\u001b[0m\u001b[0;31m \u001b[0m\u001b[0;31m\\\u001b[0m\u001b[0;34m\u001b[0m\u001b[0;34m\u001b[0m\u001b[0m\n\u001b[0;32m----> 8\u001b[0;31m     \u001b[0mcomputeScoresMSE\u001b[0m\u001b[0;34m(\u001b[0m\u001b[0mLasso\u001b[0m\u001b[0;34m,\u001b[0m\u001b[0malphas\u001b[0m\u001b[0;34m,\u001b[0m\u001b[0mp_train_X\u001b[0m\u001b[0;34m,\u001b[0m\u001b[0my_train\u001b[0m\u001b[0;34m,\u001b[0m\u001b[0mp_test_X\u001b[0m\u001b[0;34m,\u001b[0m\u001b[0my_test\u001b[0m\u001b[0;34m)\u001b[0m\u001b[0;34m\u001b[0m\u001b[0;34m\u001b[0m\u001b[0m\n\u001b[0m\u001b[1;32m      9\u001b[0m \u001b[0mplt\u001b[0m\u001b[0;34m.\u001b[0m\u001b[0mfigure\u001b[0m\u001b[0;34m(\u001b[0m\u001b[0mfigsize\u001b[0m\u001b[0;34m=\u001b[0m\u001b[0;34m(\u001b[0m\u001b[0;36m14\u001b[0m\u001b[0;34m,\u001b[0m\u001b[0;36m5\u001b[0m\u001b[0;34m)\u001b[0m\u001b[0;34m)\u001b[0m\u001b[0;34m\u001b[0m\u001b[0;34m\u001b[0m\u001b[0m\n\u001b[1;32m     10\u001b[0m \u001b[0mplt\u001b[0m\u001b[0;34m.\u001b[0m\u001b[0msemilogx\u001b[0m\u001b[0;34m(\u001b[0m\u001b[0malphas\u001b[0m\u001b[0;34m,\u001b[0m\u001b[0mtest_MSE\u001b[0m\u001b[0;34m,\u001b[0m\u001b[0;34m'x'\u001b[0m\u001b[0;34m,\u001b[0m\u001b[0mlabel\u001b[0m\u001b[0;34m=\u001b[0m\u001b[0;34m\"Test MSE\"\u001b[0m\u001b[0;34m)\u001b[0m\u001b[0;34m\u001b[0m\u001b[0;34m\u001b[0m\u001b[0m\n",
      "\u001b[0;32m<ipython-input-27-2b5091eb460b>\u001b[0m in \u001b[0;36mcomputeScoresMSE\u001b[0;34m(model, alphas, train_X, train_y, test_X, test_y)\u001b[0m\n\u001b[1;32m      7\u001b[0m     \u001b[0;32mfor\u001b[0m \u001b[0mi\u001b[0m \u001b[0;32min\u001b[0m \u001b[0mrange\u001b[0m\u001b[0;34m(\u001b[0m\u001b[0malphas\u001b[0m\u001b[0;34m.\u001b[0m\u001b[0msize\u001b[0m\u001b[0;34m)\u001b[0m\u001b[0;34m:\u001b[0m\u001b[0;34m\u001b[0m\u001b[0;34m\u001b[0m\u001b[0m\n\u001b[1;32m      8\u001b[0m         \u001b[0mmodels\u001b[0m\u001b[0;34m.\u001b[0m\u001b[0mappend\u001b[0m\u001b[0;34m(\u001b[0m\u001b[0mmodel\u001b[0m\u001b[0;34m(\u001b[0m\u001b[0malpha\u001b[0m\u001b[0;34m=\u001b[0m\u001b[0malphas\u001b[0m\u001b[0;34m[\u001b[0m\u001b[0mi\u001b[0m\u001b[0;34m]\u001b[0m\u001b[0;34m)\u001b[0m\u001b[0;34m)\u001b[0m\u001b[0;34m\u001b[0m\u001b[0;34m\u001b[0m\u001b[0m\n\u001b[0;32m----> 9\u001b[0;31m         \u001b[0mmodels\u001b[0m\u001b[0;34m[\u001b[0m\u001b[0mi\u001b[0m\u001b[0;34m]\u001b[0m\u001b[0;34m.\u001b[0m\u001b[0mfit\u001b[0m\u001b[0;34m(\u001b[0m\u001b[0mtrain_X\u001b[0m\u001b[0;34m,\u001b[0m\u001b[0mtrain_y\u001b[0m\u001b[0;34m)\u001b[0m\u001b[0;34m\u001b[0m\u001b[0;34m\u001b[0m\u001b[0m\n\u001b[0m\u001b[1;32m     10\u001b[0m         \u001b[0mtrain_scores\u001b[0m\u001b[0;34m[\u001b[0m\u001b[0mi\u001b[0m\u001b[0;34m]\u001b[0m \u001b[0;34m=\u001b[0m \u001b[0mmodels\u001b[0m\u001b[0;34m[\u001b[0m\u001b[0mi\u001b[0m\u001b[0;34m]\u001b[0m\u001b[0;34m.\u001b[0m\u001b[0mscore\u001b[0m\u001b[0;34m(\u001b[0m\u001b[0mtrain_X\u001b[0m\u001b[0;34m,\u001b[0m \u001b[0mtrain_y\u001b[0m\u001b[0;34m)\u001b[0m\u001b[0;34m\u001b[0m\u001b[0;34m\u001b[0m\u001b[0m\n\u001b[1;32m     11\u001b[0m         \u001b[0mtest_scores\u001b[0m\u001b[0;34m[\u001b[0m\u001b[0mi\u001b[0m\u001b[0;34m]\u001b[0m  \u001b[0;34m=\u001b[0m \u001b[0mmodels\u001b[0m\u001b[0;34m[\u001b[0m\u001b[0mi\u001b[0m\u001b[0;34m]\u001b[0m\u001b[0;34m.\u001b[0m\u001b[0mscore\u001b[0m\u001b[0;34m(\u001b[0m\u001b[0mtest_X\u001b[0m\u001b[0;34m,\u001b[0m \u001b[0mtest_y\u001b[0m\u001b[0;34m)\u001b[0m\u001b[0;34m\u001b[0m\u001b[0;34m\u001b[0m\u001b[0m\n",
      "\u001b[0;32m/opt/anaconda3/lib/python3.8/site-packages/sklearn/linear_model/_coordinate_descent.py\u001b[0m in \u001b[0;36mfit\u001b[0;34m(self, X, y, sample_weight, check_input)\u001b[0m\n\u001b[1;32m   1037\u001b[0m             \u001b[0;32melse\u001b[0m\u001b[0;34m:\u001b[0m\u001b[0;34m\u001b[0m\u001b[0;34m\u001b[0m\u001b[0m\n\u001b[1;32m   1038\u001b[0m                 \u001b[0mthis_Xy\u001b[0m \u001b[0;34m=\u001b[0m \u001b[0;32mNone\u001b[0m\u001b[0;34m\u001b[0m\u001b[0;34m\u001b[0m\u001b[0m\n\u001b[0;32m-> 1039\u001b[0;31m             _, this_coef, this_dual_gap, this_iter = self.path(\n\u001b[0m\u001b[1;32m   1040\u001b[0m                 \u001b[0mX\u001b[0m\u001b[0;34m,\u001b[0m\u001b[0;34m\u001b[0m\u001b[0;34m\u001b[0m\u001b[0m\n\u001b[1;32m   1041\u001b[0m                 \u001b[0my\u001b[0m\u001b[0;34m[\u001b[0m\u001b[0;34m:\u001b[0m\u001b[0;34m,\u001b[0m \u001b[0mk\u001b[0m\u001b[0;34m]\u001b[0m\u001b[0;34m,\u001b[0m\u001b[0;34m\u001b[0m\u001b[0;34m\u001b[0m\u001b[0m\n",
      "\u001b[0;32m/opt/anaconda3/lib/python3.8/site-packages/sklearn/linear_model/_coordinate_descent.py\u001b[0m in \u001b[0;36menet_path\u001b[0;34m(X, y, l1_ratio, eps, n_alphas, alphas, precompute, Xy, copy_X, coef_init, verbose, return_n_iter, positive, check_input, **params)\u001b[0m\n\u001b[1;32m    645\u001b[0m             )\n\u001b[1;32m    646\u001b[0m         \u001b[0;32melif\u001b[0m \u001b[0mprecompute\u001b[0m \u001b[0;32mis\u001b[0m \u001b[0;32mFalse\u001b[0m\u001b[0;34m:\u001b[0m\u001b[0;34m\u001b[0m\u001b[0;34m\u001b[0m\u001b[0m\n\u001b[0;32m--> 647\u001b[0;31m             model = cd_fast.enet_coordinate_descent(\n\u001b[0m\u001b[1;32m    648\u001b[0m                 \u001b[0mcoef_\u001b[0m\u001b[0;34m,\u001b[0m \u001b[0ml1_reg\u001b[0m\u001b[0;34m,\u001b[0m \u001b[0ml2_reg\u001b[0m\u001b[0;34m,\u001b[0m \u001b[0mX\u001b[0m\u001b[0;34m,\u001b[0m \u001b[0my\u001b[0m\u001b[0;34m,\u001b[0m \u001b[0mmax_iter\u001b[0m\u001b[0;34m,\u001b[0m \u001b[0mtol\u001b[0m\u001b[0;34m,\u001b[0m \u001b[0mrng\u001b[0m\u001b[0;34m,\u001b[0m \u001b[0mrandom\u001b[0m\u001b[0;34m,\u001b[0m \u001b[0mpositive\u001b[0m\u001b[0;34m\u001b[0m\u001b[0;34m\u001b[0m\u001b[0m\n\u001b[1;32m    649\u001b[0m             )\n",
      "\u001b[0;32msklearn/linear_model/_cd_fast.pyx\u001b[0m in \u001b[0;36msklearn.linear_model._cd_fast.enet_coordinate_descent\u001b[0;34m()\u001b[0m\n",
      "\u001b[0;32m/opt/anaconda3/lib/python3.8/site-packages/numpy/core/getlimits.py\u001b[0m in \u001b[0;36m__new__\u001b[0;34m(cls, dtype)\u001b[0m\n\u001b[1;32m    381\u001b[0m \u001b[0;34m\u001b[0m\u001b[0m\n\u001b[1;32m    382\u001b[0m     \u001b[0;32mdef\u001b[0m \u001b[0m__new__\u001b[0m\u001b[0;34m(\u001b[0m\u001b[0mcls\u001b[0m\u001b[0;34m,\u001b[0m \u001b[0mdtype\u001b[0m\u001b[0;34m)\u001b[0m\u001b[0;34m:\u001b[0m\u001b[0;34m\u001b[0m\u001b[0;34m\u001b[0m\u001b[0m\n\u001b[0;32m--> 383\u001b[0;31m         \u001b[0;32mtry\u001b[0m\u001b[0;34m:\u001b[0m\u001b[0;34m\u001b[0m\u001b[0;34m\u001b[0m\u001b[0m\n\u001b[0m\u001b[1;32m    384\u001b[0m             \u001b[0mdtype\u001b[0m \u001b[0;34m=\u001b[0m \u001b[0mnumeric\u001b[0m\u001b[0;34m.\u001b[0m\u001b[0mdtype\u001b[0m\u001b[0;34m(\u001b[0m\u001b[0mdtype\u001b[0m\u001b[0;34m)\u001b[0m\u001b[0;34m\u001b[0m\u001b[0;34m\u001b[0m\u001b[0m\n\u001b[1;32m    385\u001b[0m         \u001b[0;32mexcept\u001b[0m \u001b[0mTypeError\u001b[0m\u001b[0;34m:\u001b[0m\u001b[0;34m\u001b[0m\u001b[0;34m\u001b[0m\u001b[0m\n",
      "\u001b[0;31mKeyboardInterrupt\u001b[0m: "
     ]
    }
   ],
   "source": [
    "#LASSO\n",
    "import warnings\n",
    "from sklearn.linear_model import Lasso\n",
    "from sklearn.exceptions import ConvergenceWarning\n",
    "warnings.filterwarnings(\"ignore\", category=ConvergenceWarning) # this is to suppress warnings related to the optimization in the training of Lasso\n",
    "\n",
    "train_MSE, test_MSE, train_scores, test_scores, Lasso_opt = \\\n",
    "    computeScoresMSE(Lasso,alphas,p_train_X,y_train,p_test_X,y_test)\n",
    "plt.figure(figsize=(14,5))\n",
    "plt.semilogx(alphas,test_MSE,'x',label=\"Test MSE\")\n",
    "plt.semilogx(alphas,train_MSE,'x',label=\"Train MSE\")\n",
    "plt.xlabel(r\"Regularization parameter $\\alpha$\")\n",
    "plt.ylabel(r\"Mean Squared Error (MSE)\")\n",
    "plt.title(\"Bias-Variance Tradeoff for Lasso Regression\")\n",
    "ax = plt.gca()\n",
    "ax.invert_xaxis()\n",
    "plt.legend()\n",
    "plt.show()\n",
    "\n",
    "print(\"Model with optimal regularization parameter alpha: \",Lasso_opt)\n",
    "print(\"Best test MSE: \",np.mean((y_test-Lasso_opt.predict(p_test_X))**2))"
   ]
  },
  {
   "cell_type": "code",
   "execution_count": null,
   "metadata": {},
   "outputs": [],
   "source": [
    "Lasso_opt.coef_"
   ]
  },
  {
   "cell_type": "code",
   "execution_count": null,
   "metadata": {},
   "outputs": [],
   "source": [
    "!pip install mlxtend"
   ]
  },
  {
   "cell_type": "code",
   "execution_count": null,
   "metadata": {},
   "outputs": [],
   "source": [
    "from mlxtend.evaluate import bias_variance_decomp"
   ]
  },
  {
   "cell_type": "code",
   "execution_count": null,
   "metadata": {},
   "outputs": [],
   "source": [
    "y_train = y_train.values\n",
    "X_test = X_test.values\n",
    "y_test = y_test.values\n",
    "\n",
    "# Ridge Regression\n",
    "from sklearn.linear_model import Ridge\n",
    "\n",
    "ridgeReg = Ridge(alpha=0.1,normalize=True)\n",
    "\n",
    "ridgeReg.fit(p_train_X,y_train)\n",
    "\n",
    "pred1 = ridgeReg.predict(p_test_X)\n",
    "\n",
    "# R-square of Ridge\n",
    "print('R-square of Ridge Regression model')\n",
    "print('{:<15} {}'.format('R-square:', ridgeReg.score(p_test_X, y_test, sample_weight=None)),'\\n')\n",
    "\n",
    "# LASSO Regression\n",
    "from sklearn.linear_model import Lasso\n",
    "\n",
    "lassoReg = Lasso(alpha=0.1,normalize=True)\n",
    "\n",
    "lassoReg.fit(p_train_X,y_train)\n",
    "\n",
    "pred2 = lassoReg.predict(p_test_X)\n",
    "\n",
    "# R-square of LASSO\n",
    "print('R-square of LASSO Regression model')\n",
    "print('{:<15} {}'.format('R-square:', lassoReg.score(p_test_X,y_test,sample_weight=None)),'\\n')\n",
    "\n",
    "# var, bias, mse\n",
    "mse1, bias1, var1 = bias_variance_decomp(ridgeReg, p_train_X, y_train, p_test_X, y_test, loss='mse', num_rounds=10, random_seed=111)\n",
    "mse2, bias2, var2 = bias_variance_decomp(lassoReg, p_train_X, y_train, p_test_X, y_test, loss='mse', num_rounds=10, random_seed=111)\n",
    "print('Ridge Regression model')\n",
    "print('{:<15} {}'.format('MSE:', mse1))\n",
    "print('{:<15} {}'.format('bias:', bias1))\n",
    "print('{:<15} {}'.format('variance:', var1),'\\n')\n",
    "\n",
    "print('LASSO Regression model')\n",
    "print('{:<15} {}'.format('MSE:', mse2))\n",
    "print('{:<15} {}'.format('bias:', bias2))\n",
    "print('{:<15} {}'.format('variance:', var2),'\\n')"
   ]
  },
  {
   "cell_type": "code",
   "execution_count": null,
   "metadata": {},
   "outputs": [],
   "source": [
    "# plot the magnitude of coefficients\n",
    "import pandas as pd\n",
    "import matplotlib.pyplot as plt\n",
    "\n",
    "# coefficient plot of Ridge model, different alpha\n",
    "figure,axes = plt.subplots(2,2,figsize=(15,15))\n",
    "\n",
    "axes = axes.ravel()\n",
    "\n",
    "coef_list1 = []\n",
    "\n",
    "c = [0.01,0.05,0.1,3]\n",
    "for i in c:\n",
    "    ridgeReg = Ridge(alpha=i,normalize=True)\n",
    "    ridgeReg.fit(X_train,y_train)\n",
    "    coef_list1.append(pd.Series(ridgeReg.coef_,labels).sort_values())\n",
    "# different alpha in Ridge regression\n",
    "for j in range(0,4):\n",
    "    coef_list1[j].plot(ax = axes[j] ,kind='bar', title='Ridge Coefficients \\n alpha = {}'.format(c[j])) \n",
    "    \n",
    "# coefficient plot of LASSO model, different alpha\n",
    "figure,axes = plt.subplots(2,2,figsize=(15,15))\n",
    "\n",
    "axes = axes.ravel()\n",
    "\n",
    "coef_list2 = []\n",
    "\n",
    "c = [0.01,0.05,0.1,3]\n",
    "for i in c:\n",
    "    lassoReg = Lasso(alpha=i,normalize=True)\n",
    "    lassoReg.fit(X_train,y_train)\n",
    "    coef_list2.append(pd.Series(lassoReg.coef_,labels).sort_values())\n",
    "# different alpha in LASSO regression\n",
    "for j in range(0,4):\n",
    "    coef_list2[j].plot(ax = axes[j] ,kind='bar', title='LASSO Coefficients \\n alpha = {}'.format(c[j])) \n",
    "\n",
    "plt.show()"
   ]
  },
  {
   "cell_type": "markdown",
   "metadata": {},
   "source": [
    "## Logistic Regression"
   ]
  },
  {
   "cell_type": "code",
   "execution_count": 1,
   "metadata": {},
   "outputs": [
    {
     "name": "stdout",
     "output_type": "stream",
     "text": [
      "Populating the interactive namespace from numpy and matplotlib\n"
     ]
    }
   ],
   "source": [
    "%pylab inline"
   ]
  },
  {
   "cell_type": "code",
   "execution_count": 2,
   "metadata": {},
   "outputs": [
    {
     "ename": "NameError",
     "evalue": "name 'app_df' is not defined",
     "output_type": "error",
     "traceback": [
      "\u001b[0;31m---------------------------------------------------------------------------\u001b[0m",
      "\u001b[0;31mNameError\u001b[0m                                 Traceback (most recent call last)",
      "\u001b[0;32m<ipython-input-2-d932137570b6>\u001b[0m in \u001b[0;36m<module>\u001b[0;34m\u001b[0m\n\u001b[0;32m----> 1\u001b[0;31m \u001b[0mapp_df\u001b[0m \u001b[0;34m=\u001b[0m \u001b[0mapp_df\u001b[0m\u001b[0;34m.\u001b[0m\u001b[0msample\u001b[0m\u001b[0;34m(\u001b[0m\u001b[0mfrac\u001b[0m \u001b[0;34m=\u001b[0m \u001b[0;36m0.3\u001b[0m\u001b[0;34m)\u001b[0m\u001b[0;34m\u001b[0m\u001b[0;34m\u001b[0m\u001b[0m\n\u001b[0m\u001b[1;32m      2\u001b[0m \u001b[0mapp_df\u001b[0m \u001b[0;34m=\u001b[0m \u001b[0mapp_df\u001b[0m\u001b[0;34m.\u001b[0m\u001b[0mdropna\u001b[0m\u001b[0;34m(\u001b[0m\u001b[0;34m)\u001b[0m\u001b[0;34m\u001b[0m\u001b[0;34m\u001b[0m\u001b[0m\n\u001b[1;32m      3\u001b[0m \u001b[0mX2\u001b[0m \u001b[0;34m=\u001b[0m \u001b[0mapp_df\u001b[0m\u001b[0;34m.\u001b[0m\u001b[0mdrop\u001b[0m\u001b[0;34m(\u001b[0m\u001b[0;34m'TARGET'\u001b[0m\u001b[0;34m,\u001b[0m \u001b[0maxis\u001b[0m\u001b[0;34m=\u001b[0m\u001b[0;36m1\u001b[0m\u001b[0;34m)\u001b[0m\u001b[0;34m\u001b[0m\u001b[0;34m\u001b[0m\u001b[0m\n\u001b[1;32m      4\u001b[0m \u001b[0my2\u001b[0m \u001b[0;34m=\u001b[0m \u001b[0mapp_df\u001b[0m\u001b[0;34m[\u001b[0m\u001b[0;34m'TARGET'\u001b[0m\u001b[0;34m]\u001b[0m\u001b[0;34m\u001b[0m\u001b[0;34m\u001b[0m\u001b[0m\n\u001b[1;32m      5\u001b[0m \u001b[0mX2_train\u001b[0m\u001b[0;34m,\u001b[0m \u001b[0mX2_test\u001b[0m\u001b[0;34m,\u001b[0m \u001b[0my2_train\u001b[0m\u001b[0;34m,\u001b[0m \u001b[0my2_test\u001b[0m \u001b[0;34m=\u001b[0m \u001b[0mtrain_test_split\u001b[0m\u001b[0;34m(\u001b[0m\u001b[0mX2\u001b[0m\u001b[0;34m,\u001b[0m\u001b[0my2\u001b[0m\u001b[0;34m,\u001b[0m\u001b[0mtest_size\u001b[0m \u001b[0;34m=\u001b[0m \u001b[0;36m0.3\u001b[0m\u001b[0;34m,\u001b[0m\u001b[0mrandom_state\u001b[0m\u001b[0;34m=\u001b[0m\u001b[0;36m235\u001b[0m\u001b[0;34m)\u001b[0m\u001b[0;34m\u001b[0m\u001b[0;34m\u001b[0m\u001b[0m\n",
      "\u001b[0;31mNameError\u001b[0m: name 'app_df' is not defined"
     ]
    }
   ],
   "source": [
    "app_df = app_df.sample(frac = 0.3)\n",
    "app_df = app_df.dropna()\n",
    "X2 = app_df.drop('TARGET', axis=1)\n",
    "y2 = app_df['TARGET']\n",
    "X2_train, X2_test, y2_train, y2_test = train_test_split(X2,y2,test_size = 0.3,random_state=235)\n",
    "\n",
    "X2_train = X2_train.values\n",
    "X2_test = X2_test.values\n",
    "y2_train = y2_train.values\n",
    "y2_test = y2_test.values"
   ]
  },
  {
   "cell_type": "code",
   "execution_count": 30,
   "metadata": {},
   "outputs": [
    {
     "name": "stdout",
     "output_type": "stream",
     "text": [
      "Train: [ 49047  49048  49049 ... 245365 245366 245367] Test: [    0     1     2 ... 49341 49344 49354]\n",
      "Train: [     0      1      2 ... 245365 245366 245367] Test: [49047 49048 49049 ... 98241 98242 98243]\n",
      "Train: [     0      1      2 ... 245365 245366 245367] Test: [ 96986  96989  97025 ... 147361 147362 147363]\n",
      "Train: [     0      1      2 ... 245365 245366 245367] Test: [145603 145619 145624 ... 196405 196406 196407]\n",
      "Train: [     0      1      2 ... 196405 196406 196407] Test: [195128 195133 195148 ... 245365 245366 245367]\n"
     ]
    }
   ],
   "source": [
    "from sklearn.model_selection import KFold, StratifiedKFold\n",
    "from sklearn.model_selection import StratifiedShuffleSplit\n",
    "sss = StratifiedKFold(n_splits=5, random_state=None, shuffle=False)\n",
    "\n",
    "for train_index, test_index in sss.split(X2, y2):\n",
    "    print(\"Train:\", train_index, \"Test:\", test_index)\n",
    "    X2_train, X2_test = X2.iloc[train_index,:], X2.iloc[test_index,:]\n",
    "    y2_train, y2_test = y2.iloc[train_index], y2.iloc[test_index]"
   ]
  },
  {
   "cell_type": "code",
   "execution_count": 32,
   "metadata": {},
   "outputs": [],
   "source": [
    "from sklearn.model_selection import RandomizedSearchCV\n",
    "from sklearn.linear_model import LogisticRegression\n",
    "\n",
    "logreg = LogisticRegression(solver='liblinear').fit(X2_train,y2_train)\n",
    "\n",
    "logreg_params = {\"penalty\": ['l2'], 'C': [0.001, 0.01, 0.1, 1, 10, 100, 1000]}\n",
    "\n",
    "rand_logreg = RandomizedSearchCV(LogisticRegression(solver='liblinear'), logreg_params, n_iter=4).fit(X2_train,y2_train)"
   ]
  },
  {
   "cell_type": "code",
   "execution_count": 33,
   "metadata": {},
   "outputs": [],
   "source": [
    "accuracy_lst = []\n",
    "precision_lst = []\n",
    "recall_lst = []\n",
    "f1_lst = []\n",
    "auc_lst = []"
   ]
  },
  {
   "cell_type": "code",
   "execution_count": 34,
   "metadata": {},
   "outputs": [
    {
     "ename": "AttributeError",
     "evalue": "'RandomizedSearchCV' object has no attribute 'best_estimator_'",
     "output_type": "error",
     "traceback": [
      "\u001b[0;31m---------------------------------------------------------------------------\u001b[0m",
      "\u001b[0;31mAttributeError\u001b[0m                            Traceback (most recent call last)",
      "\u001b[0;32m<ipython-input-34-3c5fc0884528>\u001b[0m in \u001b[0;36m<module>\u001b[0;34m\u001b[0m\n\u001b[1;32m      1\u001b[0m \u001b[0;32mfor\u001b[0m \u001b[0mtrain\u001b[0m\u001b[0;34m,\u001b[0m \u001b[0mtest\u001b[0m \u001b[0;32min\u001b[0m \u001b[0msss\u001b[0m\u001b[0;34m.\u001b[0m\u001b[0msplit\u001b[0m\u001b[0;34m(\u001b[0m\u001b[0mX2_train\u001b[0m\u001b[0;34m,\u001b[0m \u001b[0my2_train\u001b[0m\u001b[0;34m)\u001b[0m\u001b[0;34m:\u001b[0m\u001b[0;34m\u001b[0m\u001b[0;34m\u001b[0m\u001b[0m\n\u001b[0;32m----> 2\u001b[0;31m     \u001b[0mbest_est\u001b[0m \u001b[0;34m=\u001b[0m \u001b[0mrand_logreg\u001b[0m\u001b[0;34m.\u001b[0m\u001b[0mbest_estimator_\u001b[0m\u001b[0;34m\u001b[0m\u001b[0;34m\u001b[0m\u001b[0m\n\u001b[0m\u001b[1;32m      3\u001b[0m     \u001b[0mprediction\u001b[0m \u001b[0;34m=\u001b[0m \u001b[0mbest_est\u001b[0m\u001b[0;34m.\u001b[0m\u001b[0mpredict\u001b[0m\u001b[0;34m(\u001b[0m\u001b[0mX2_train\u001b[0m\u001b[0;34m[\u001b[0m\u001b[0mtest\u001b[0m\u001b[0;34m]\u001b[0m\u001b[0;34m)\u001b[0m\u001b[0;34m\u001b[0m\u001b[0;34m\u001b[0m\u001b[0m\n\u001b[1;32m      4\u001b[0m \u001b[0;34m\u001b[0m\u001b[0m\n\u001b[1;32m      5\u001b[0m     \u001b[0maccuracy_lst\u001b[0m\u001b[0;34m.\u001b[0m\u001b[0mappend\u001b[0m\u001b[0;34m(\u001b[0m\u001b[0mlogreg\u001b[0m\u001b[0;34m.\u001b[0m\u001b[0mscore\u001b[0m\u001b[0;34m(\u001b[0m\u001b[0mX2_train\u001b[0m\u001b[0;34m[\u001b[0m\u001b[0mtest\u001b[0m\u001b[0;34m]\u001b[0m\u001b[0;34m,\u001b[0m\u001b[0my2_train\u001b[0m\u001b[0;34m[\u001b[0m\u001b[0mtest\u001b[0m\u001b[0;34m]\u001b[0m\u001b[0;34m)\u001b[0m\u001b[0;34m)\u001b[0m\u001b[0;34m\u001b[0m\u001b[0;34m\u001b[0m\u001b[0m\n",
      "\u001b[0;31mAttributeError\u001b[0m: 'RandomizedSearchCV' object has no attribute 'best_estimator_'"
     ]
    }
   ],
   "source": [
    "for train, test in sss.split(X2_train, y2_train):\n",
    "    best_est = rand_logreg.best_estimator_\n",
    "    prediction = best_est.predict(X2_train[test])\n",
    "\n",
    "    accuracy_lst.append(logreg.score(X2_train[test],y2_train[test]))\n",
    "    precision_lst.append(precision_score(y2_train[test], prediction))\n",
    "    recall_lst.append(recall_score(y2_train[test], prediction))\n",
    "    f1_lst.append(f1_score(y2_train[test], prediction))\n",
    "    auc_lst.append(roc_auc_score(y2_train[test], prediction))\n",
    "    \n",
    "print('---' * 45)\n",
    "print('')\n",
    "print(\"accuracy: {}\".format(np.mean(accuracy_lst)))\n",
    "print(\"precision: {}\".format(np.mean(precision_lst)))\n",
    "print(\"recall: {}\".format(np.mean(recall_lst)))\n",
    "print(\"f1: {}\".format(np.mean(f1_lst)))\n",
    "print('---' * 45)"
   ]
  },
  {
   "cell_type": "code",
   "execution_count": 35,
   "metadata": {},
   "outputs": [],
   "source": [
    "def classification_map(X,y,classifier,i=0,j=1,X_test=None,y_test=None,h=0.1):\n",
    "    '''\n",
    "    h: step size in the mesh\n",
    "    i: first feature number to be plotted\n",
    "    j: second feature number to be plotted\n",
    "    '''\n",
    "    import matplotlib.pyplot as plt\n",
    "    from matplotlib.colors import ListedColormap\n",
    "    cmap_light = ListedColormap(['#FFBBBB', '#BBFFBB', '#BBBBFF'])\n",
    "    cmap_bold = ListedColormap(['#CC0000', '#00AA00', '#0000CC'])\n",
    "# Points in a mesh of [x_min, m_max] x [y_min, y_max]\n",
    "    x_min, x_max = X[:,i].min()-1, X[:,i].max()+1\n",
    "    y_min, y_max = X[:,j].min()-1, X[:,j].max()+1\n",
    "    xx, yy = np.meshgrid(np.arange(x_min, x_max, h),\n",
    "                         np.arange(y_min, y_max, h))\n",
    "    grid = np.c_[xx.ravel(), yy.ravel()]\n",
    "    classifier.fit(X,y)\n",
    "    Z = classifier.predict(grid)\n",
    "    \n",
    "    # Put the result into a color plot\n",
    "    Z = Z.reshape(xx.shape)\n",
    "    fig = plt.figure(figsize=(5,5))\n",
    "    if False:\n",
    "        plt.scatter(xx, yy, c=Z, cmap=cmap_light, edgecolor='none')\n",
    "    else:\n",
    "        plt.pcolormesh(xx, yy, Z, cmap=cmap_light,shading='auto')\n",
    "    # Plot also the training points\n",
    "    plt.scatter(X[:,i], X[:,j], c=y, cmap=cmap_bold)\n",
    "    plt.xlim(xx.min(), xx.max())\n",
    "    plt.ylim(yy.min(), yy.max())\n",
    "    plt.title(\"3-Class classification with classifier \"+str(classifier))\n",
    "    if not X_test is None and not y_test is None: # if test set features are provided, overlay classified labels on test set as well\n",
    "        plt.scatter(X_test[:,i], X_test[:,j], c=y_test,cmap=cmap_bold,marker=\"x\")\n",
    "    ax=plt.gca()\n",
    "    #ax.legend([\"training data\",\"test data\"],loc=0,fontsize=8)"
   ]
  },
  {
   "cell_type": "code",
   "execution_count": 36,
   "metadata": {},
   "outputs": [
    {
     "data": {
      "text/plain": [
       "LogisticRegression(C=100000.0)"
      ]
     },
     "execution_count": 36,
     "metadata": {},
     "output_type": "execute_result"
    }
   ],
   "source": [
    "\n",
    "\n",
    "# Create an instance of Logistic Regression Classifier and fit the data.\n",
    "logreg = LogisticRegression(C=1e5)\n",
    "logreg.fit(X2_train, y2_train)"
   ]
  },
  {
   "cell_type": "code",
   "execution_count": 38,
   "metadata": {},
   "outputs": [],
   "source": [
    "# Plot the decision boundary. For that, we will assign a color to each\n",
    "# point in the mesh [x_min, x_max]x[y_min, y_max].\n",
    "x_min, x_max = X2_train[:, 0].min() - 0.5, X2_train[:, 0].max() + 0.5\n",
    "y_min, y_max = X2_train[:, 1].min() - 0.5, X2_train[:, 1].max() + 0.5"
   ]
  },
  {
   "cell_type": "code",
   "execution_count": null,
   "metadata": {},
   "outputs": [],
   "source": [
    "import os\n",
    "os.environ['KMP_DUPLICATE_LIB_OK']='True'"
   ]
  },
  {
   "cell_type": "code",
   "execution_count": null,
   "metadata": {},
   "outputs": [],
   "source": [
    "h = 0.02  # step size in the mesh\n",
    "xx, yy = np.meshgrid(np.arange(x_min, x_max, h), np.arange(y_min, y_max, h))"
   ]
  },
  {
   "cell_type": "code",
   "execution_count": null,
   "metadata": {},
   "outputs": [],
   "source": [
    "Z = logreg.predict(np.c_[xx.ravel(), yy.ravel()]).reshape(xx.shape)\n",
    "\n",
    "figure(figsize=(4,4))\n",
    "contourf(xx,yy,Z, cmap=plt.cm.Spectral_r)\n",
    "scatter(X[:,0],X[:,1], c=Y, cmap=plt.cm.gray)\n",
    "plt.show()"
   ]
  },
  {
   "cell_type": "code",
   "execution_count": null,
   "metadata": {},
   "outputs": [],
   "source": [
    "classification_map(x,y,logreg)"
   ]
  },
  {
   "cell_type": "markdown",
   "metadata": {},
   "source": [
    "# cross validation  and tune parameters\n",
    "# need the following \n",
    " precision_score, recall_score, f1_score, roc_auc_score, accuracy_score, classification_report"
   ]
  },
  {
   "cell_type": "code",
   "execution_count": null,
   "metadata": {},
   "outputs": [],
   "source": []
  }
 ],
 "metadata": {
  "kernelspec": {
   "display_name": "Python 3",
   "language": "python",
   "name": "python3"
  },
  "language_info": {
   "codemirror_mode": {
    "name": "ipython",
    "version": 3
   },
   "file_extension": ".py",
   "mimetype": "text/x-python",
   "name": "python",
   "nbconvert_exporter": "python",
   "pygments_lexer": "ipython3",
   "version": "3.8.8"
  }
 },
 "nbformat": 4,
 "nbformat_minor": 4
}
